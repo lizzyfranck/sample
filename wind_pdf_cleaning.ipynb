{
 "cells": [
  {
   "cell_type": "code",
   "execution_count": 1,
   "metadata": {},
   "outputs": [
    {
     "name": "stdout",
     "output_type": "stream",
     "text": [
      "Collecting PyPDF2\n",
      "  Using cached pypdf2-3.0.1-py3-none-any.whl (232 kB)\n",
      "Installing collected packages: PyPDF2\n",
      "Successfully installed PyPDF2-3.0.1\n"
     ]
    }
   ],
   "source": [
    "# Importing and installing packages\n",
    "!pip install PyPDF2\n",
    "from PyPDF2 import PdfReader\n",
    "import re"
   ]
  },
  {
   "cell_type": "code",
   "execution_count": 2,
   "metadata": {},
   "outputs": [],
   "source": [
    "# Functions\n",
    "def extract_text_from_pdf(pdf_path, start, end):\n",
    "    pdf_reader = PdfReader(pdf_path)\n",
    "    text = \"\"\n",
    "    for page in pdf_reader.pages[start:end]:\n",
    "        text += page.extract_text() + \"\\n\"\n",
    "    return text\n",
    "\n",
    "def save_text_to_file(text, output_path):\n",
    "    with open(output_path, 'w') as file:\n",
    "        file.write(text)"
   ]
  },
  {
   "cell_type": "code",
   "execution_count": 3,
   "metadata": {},
   "outputs": [
    {
     "name": "stdout",
     "output_type": "stream",
     "text": [
      "Line numbers, headers, and unwanted pages removed. Cleaned transcripts saved to tbf1_cleaned.txt and tbf2_cleaned.txt.\n"
     ]
    }
   ],
   "source": [
    "# TB Flats transcripts\n",
    "def remove_tbf(text):\n",
    "    only_numbers = re.compile(r'^\\s*\\d+\\s*$')\n",
    "    cleaned_lines = []\n",
    "    for line in text.split('\\n'):\n",
    "        if only_numbers.fullmatch(line):\n",
    "            continue\n",
    "        # Using regex to remove line numbers at the beginning of each line and headers\n",
    "        cleaned_line = re.sub(r'^\\s*\\d+\\s*', '', line)\n",
    "        cleaned_line = re.sub(r'TB Flats Hearing DEQ/ISC 18-01', '', cleaned_line)\n",
    "        cleaned_line = re.sub(r'.800.444.2826Wyoming Reporting Service, Inc.\\d+', '', cleaned_line)\n",
    "        cleaned_lines.append(cleaned_line)\n",
    "    return '\\n'.join(cleaned_lines)\n",
    "\n",
    "output_txt = 'tbf1_cleaned.txt'\n",
    "output_txt_2 = 'tbf2_cleaned.txt'\n",
    "    \n",
    "input_pdf = \"TB Flats Part 1.pdf\"\n",
    "input_pdf_2 = \"TB Flats Part 2.pdf\"\n",
    "\n",
    "# Extract text from PDF\n",
    "raw_text = extract_text_from_pdf(input_pdf, 6, 343)\n",
    "raw_text_2 = extract_text_from_pdf(input_pdf_2, 5, 202)\n",
    "    \n",
    "# Remove unwanted features from extracted text\n",
    "cleaned_text = remove_tbf(raw_text)\n",
    "cleaned_text_2 = remove_tbf(raw_text_2)\n",
    "    \n",
    "# Save cleaned text to a file\n",
    "save_text_to_file(cleaned_text, output_txt)\n",
    "save_text_to_file(cleaned_text_2, output_txt_2)\n",
    "    \n",
    "print(f\"Line numbers, headers, and unwanted pages removed. Cleaned transcripts saved to {output_txt} and {output_txt_2}.\")"
   ]
  },
  {
   "cell_type": "code",
   "execution_count": 7,
   "metadata": {},
   "outputs": [
    {
     "name": "stdout",
     "output_type": "stream",
     "text": [
      "Line numbers, headers, and unwanted pages removed. Cleaned transcript saved to boswell_cleaned_1.txt, boswell_cleaned_2.txt, and boswell_cleaned_3.txt.\n"
     ]
    }
   ],
   "source": [
    "# Boswell transcripts\n",
    "def remove_boswell(text):\n",
    "    only_numbers = re.compile(r'^\\s*\\d+\\s*$')\n",
    "    cleaned_lines = []\n",
    "    for line in text.split('\\n'):\n",
    "        if only_numbers.fullmatch(line):\n",
    "            continue\n",
    "        # Using regex to remove line numbers at the beginning of each line\n",
    "        cleaned_line = re.sub(r'^\\s*\\d+\\s*', '', line)\n",
    "        cleaned_line = re.sub(r'(Page)\\s*\\d+', '', cleaned_line)\n",
    "        cleaned_lines.append(cleaned_line)\n",
    "    return '\\n'.join(cleaned_lines)\n",
    "\n",
    "output_txt_1 = 'boswell_cleaned_1.txt'\n",
    "output_txt_2 = 'boswell_cleaned_2.txt'\n",
    "output_txt_3 = 'boswell_cleaned_3.txt'\n",
    "    \n",
    "boswell_pdf = \"15-05 Hearing Transcript Vol 1.pdf\"\n",
    "boswell_pdf_2 = \"15-05 Hearing Transcript Vol 2.pdf\"\n",
    "boswell_pdf_3 = \"15-05 Hearing Transcript Vol 3.pdf\"\n",
    "# Extract text from PDF\n",
    "boswell_raw = extract_text_from_pdf(boswell_pdf, 5, 237)\n",
    "boswell_raw_2 = extract_text_from_pdf(boswell_pdf_2, 5, 358)\n",
    "boswell_raw_3 = extract_text_from_pdf(boswell_pdf_3, 1, 157)\n",
    "\n",
    "# Remove line numbers from extracted text\n",
    "cleaned_boswell = remove_boswell(boswell_raw)\n",
    "cleaned_2 = remove_boswell(boswell_raw_2)\n",
    "cleaned_3 = remove_boswell(boswell_raw_3)\n",
    "    \n",
    "# Save cleaned text to a file\n",
    "save_text_to_file(cleaned_boswell, output_txt_1)\n",
    "save_text_to_file(cleaned_2, output_txt_2)\n",
    "save_text_to_file(cleaned_3, output_txt_3)\n",
    "    \n",
    "print(f\"Line numbers, headers, and unwanted pages removed. Cleaned transcript saved to {output_txt_1}, {output_txt_2}, and {output_txt_3}.\")"
   ]
  }
 ],
 "metadata": {
  "kernelspec": {
   "display_name": "Python 3 (ipykernel)",
   "language": "python",
   "name": "python3"
  },
  "language_info": {
   "codemirror_mode": {
    "name": "ipython",
    "version": 3
   },
   "file_extension": ".py",
   "mimetype": "text/x-python",
   "name": "python",
   "nbconvert_exporter": "python",
   "pygments_lexer": "ipython3",
   "version": "3.11.13"
  }
 },
 "nbformat": 4,
 "nbformat_minor": 4
}
